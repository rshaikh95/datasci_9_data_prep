{
  "nbformat": 4,
  "nbformat_minor": 0,
  "metadata": {
    "colab": {
      "provenance": [],
      "authorship_tag": "ABX9TyNvF7S+iQ8ZWF7zb7sBnT+h",
      "include_colab_link": true
    },
    "kernelspec": {
      "name": "python3",
      "display_name": "Python 3"
    },
    "language_info": {
      "name": "python"
    }
  },
  "cells": [
    {
      "cell_type": "markdown",
      "metadata": {
        "id": "view-in-github",
        "colab_type": "text"
      },
      "source": [
        "<a href=\"https://colab.research.google.com/github/rshaikh95/datasci_9_data_prep/blob/main/p1_extract.ipynb\" target=\"_parent\"><img src=\"https://colab.research.google.com/assets/colab-badge.svg\" alt=\"Open In Colab\"/></a>"
      ]
    },
    {
      "cell_type": "markdown",
      "source": [
        "Death rates for suicide, by sex, race, Hispanic origin, and age: United States\n",
        "\n",
        "https://catalog.data.gov/dataset/death-rates-for-suicide-by-sex-race-hispanic-origin-and-age-united-states-020c1/resource/3e3345d3-5759-445c-aa2f-9bfc6891bd6b\n",
        "\n",
        "Based on old data, can we predict the characterists of a victim (like sex, M vs F, or ethnicity) based on variables related to the death rate?\n",
        "\n"
      ],
      "metadata": {
        "id": "smNu5EQjUjvF"
      }
    },
    {
      "cell_type": "code",
      "execution_count": 7,
      "metadata": {
        "id": "8zlq70hDNMn3"
      },
      "outputs": [],
      "source": [
        "import pandas as pd\n",
        "\n",
        "## get data\n",
        "\n",
        "# original link: https://catalog.data.gov/dataset/death-rates-for-suicide-by-sex-race-hispanic-origin-and-age-united-states-020c1\n",
        "# data download link:\n",
        "datalink = 'https://data.cdc.gov/api/views/9j2v-jamp/rows.csv?accessType=DOWNLOAD'\n",
        "\n",
        "df = pd.read_csv(datalink)\n",
        "df.size\n",
        "df.sample(5)\n",
        "\n",
        "## save as csv to model_dev2/data/raw/leading_deaths\n",
        "df.to_csv('/content/model_dev1/data/raw/Death_rates_for_suicide__by_sex__race__Hispanic_origin__and_age__United_States.csv', index=False)\n",
        "\n",
        "## save as pickle to model_dev2/data/raw/leading_deaths\n",
        "df.to_pickle('/content/model_dev1/data/raw/Death_rates_for_suicide__by_sex__race__Hispanic_origin__and_age__United_States.csv')\n",
        "\n",
        "\n"
      ]
    },
    {
      "cell_type": "code",
      "source": [],
      "metadata": {
        "id": "jRWDDSW0T_Nb"
      },
      "execution_count": null,
      "outputs": []
    }
  ]
}